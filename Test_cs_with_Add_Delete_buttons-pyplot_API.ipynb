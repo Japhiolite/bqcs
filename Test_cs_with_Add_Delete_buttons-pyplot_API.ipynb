{
 "cells": [
  {
   "cell_type": "code",
   "execution_count": 1,
   "metadata": {},
   "outputs": [],
   "source": [
    "import os\n",
    "import pandas as pd\n",
    "import numpy as np\n",
    "import ipywidgets as widgets\n",
    "\n",
    "import bqplot.pyplot as plt\n",
    "import bqplot as bq"
   ]
  },
  {
   "cell_type": "markdown",
   "metadata": {},
   "source": [
    "## Image"
   ]
  },
  {
   "cell_type": "code",
   "execution_count": 2,
   "metadata": {},
   "outputs": [
    {
     "data": {
      "application/vnd.jupyter.widget-view+json": {
       "model_id": "342b2f0665954a8ba9a4164da5b16c74",
       "version_major": 2,
       "version_minor": 0
      },
      "text/plain": [
       "Image(value=b'\\x89PNG\\r\\n\\x1a\\n\\x00\\x00\\x00\\rIHDR\\x00\\x00\\x06\\x86\\x00\\x00\\x03\\x1b\\x08\\x06\\x00\\x00\\x00`\\xdc\\'\\x…"
      ]
     },
     "metadata": {},
     "output_type": "display_data"
    }
   ],
   "source": [
    "image_path = os.path.abspath('image_nagra_nab14-17.png')\n",
    "\n",
    "with open(image_path, 'rb') as f:\n",
    "    raw_image = f.read()\n",
    "ipyimage = widgets.Image(value=raw_image, format='png')\n",
    "ipyimage"
   ]
  },
  {
   "cell_type": "markdown",
   "metadata": {},
   "source": [
    "## With pyplot-API of bqplot"
   ]
  },
  {
   "cell_type": "code",
   "execution_count": 3,
   "metadata": {},
   "outputs": [
    {
     "data": {
      "application/vnd.jupyter.widget-view+json": {
       "model_id": "f5f1944b35494f19813d82a5ae0f8c1d",
       "version_major": 2,
       "version_minor": 0
      },
      "text/plain": [
       "VBox(children=(Figure(axes=[Axis(scale=LinearScale()), Axis(orientation='vertical', scale=LinearScale())], fig…"
      ]
     },
     "metadata": {},
     "output_type": "display_data"
    }
   ],
   "source": [
    "plt.figure(padding_y=0)\n",
    "axes_options = {'x': {'visible': False}, 'y': {'visible': False}}\n",
    "plt.imshow(image_path, 'filename')\n",
    "plt.show()"
   ]
  },
  {
   "cell_type": "markdown",
   "metadata": {},
   "source": [
    "### Display inside a bqplot Figure"
   ]
  },
  {
   "cell_type": "code",
   "execution_count": 4,
   "metadata": {},
   "outputs": [
    {
     "data": {
      "application/vnd.jupyter.widget-view+json": {
       "model_id": "44ef3ecc6c784bb6bf3ce757c2fbc055",
       "version_major": 2,
       "version_minor": 0
      },
      "text/plain": [
       "Figure(axes=[Axis(scale=LinearScale()), Axis(orientation='vertical', scale=LinearScale())], fig_margin={'top':…"
      ]
     },
     "metadata": {},
     "output_type": "display_data"
    }
   ],
   "source": [
    "fig = plt.figure(title='Cross-Section', padding_x=0, padding_y=0)\n",
    "image = plt.imshow(ipyimage, 'widget')\n",
    "fig"
   ]
  },
  {
   "cell_type": "markdown",
   "metadata": {},
   "source": [
    "# Scatter Chart - Pyplot API"
   ]
  },
  {
   "cell_type": "code",
   "execution_count": 5,
   "metadata": {},
   "outputs": [],
   "source": [
    "# data generation\n",
    "price_data = pd.DataFrame(np.cumsum(np.random.randn(150, 2).dot([[1.0, -0.8], [-0.8, 1.0]]), axis=0) + 100,\n",
    "                          columns=['Security 1', 'Security 2'], index=pd.date_range(start='01-01-2007', periods=150))\n",
    "size = 100\n",
    "np.random.seed(0)\n",
    "x_data = range(size)\n",
    "y_data = np.cumsum(np.random.randn(size) * 100.0)\n",
    "ord_keys = np.array(['A', 'B', 'C', 'D', 'E', 'F'])\n",
    "ordinal_data = np.random.randint(5, size=size)"
   ]
  },
  {
   "cell_type": "code",
   "execution_count": 6,
   "metadata": {},
   "outputs": [
    {
     "data": {
      "application/vnd.jupyter.widget-view+json": {
       "model_id": "94f8ea6ed43847ef8033aeb6cc8d790b",
       "version_major": 2,
       "version_minor": 0
      },
      "text/plain": [
       "Figure(axes=[Axis(scale=LinearScale()), Axis(orientation='vertical', scale=LinearScale())], fig_margin={'top':…"
      ]
     },
     "metadata": {},
     "output_type": "display_data"
    }
   ],
   "source": [
    "# Scatter plot where you can move points and have an updated mean\n",
    "fig2 = plt.figure()\n",
    "scat = plt.scatter(x_data[:10], y_data[:10], colors=['SeaGreen'], \n",
    "                   enable_move=True, restrict_y=True)\n",
    "lin = plt.plot([], [], line_style='dotted', colors=['DodgerBlue'])\n",
    "\n",
    "def update_mean(change=10):\n",
    "    with lin.hold_sync():\n",
    "        lin.x = [np.min(scat.x), np.max(scat.x)]\n",
    "        lin.y = [np.mean(scat.y), np.mean(scat.y)]\n",
    "        \n",
    "update_mean()\n",
    "\n",
    "# update line on change of x or y of scatter\n",
    "scat.observe(update_mean, names=['x'])\n",
    "scat.observe(update_mean, names=['y'])\n",
    "\n",
    "fig2"
   ]
  },
  {
   "cell_type": "code",
   "execution_count": 7,
   "metadata": {},
   "outputs": [
    {
     "data": {
      "application/vnd.jupyter.widget-view+json": {
       "model_id": "26ba5a4e530541728433ef4b1875afc7",
       "version_major": 2,
       "version_minor": 0
      },
      "text/plain": [
       "Figure(axes=[Axis(scale=LinearScale()), Axis(orientation='vertical', scale=LinearScale())], fig_margin={'top':…"
      ]
     },
     "metadata": {},
     "output_type": "display_data"
    }
   ],
   "source": [
    "# Scatter plot where you can add and move points \n",
    "fig2 = plt.figure()\n",
    "scat = plt.scatter(x_data[:10], y_data[:10], colors=['SeaGreen'], \n",
    "                   enable_move=True, restrict_y=True)\n",
    "lin = plt.plot([], [], line_style='dotted', colors=['DodgerBlue'])\n",
    "\n",
    "def update_mean(change=None):\n",
    "    with lin.hold_sync():\n",
    "        lin.x = [np.min(scat.x), np.max(scat.x)]\n",
    "        lin.y = [np.mean(scat.y), np.mean(scat.y)]\n",
    "    with scat.hold_sync():\n",
    "        scat.interactions = {'click': 'add'}\n",
    "update_mean()\n",
    "\n",
    "# update line on change of x or y of scatter\n",
    "scat.observe(update_mean, names=['x'])\n",
    "scat.observe(update_mean, names=['y'])\n",
    "\n",
    "fig2"
   ]
  },
  {
   "cell_type": "code",
   "execution_count": 8,
   "metadata": {},
   "outputs": [
    {
     "data": {
      "application/vnd.jupyter.widget-view+json": {
       "model_id": "ce35c3eb172743beb734626da8c7b90d",
       "version_major": 2,
       "version_minor": 0
      },
      "text/plain": [
       "Figure(axes=[Axis(scale=LinearScale(max=30.0, min=0.0)), Axis(orientation='vertical', scale=LinearScale(max=1.…"
      ]
     },
     "metadata": {},
     "output_type": "display_data"
    }
   ],
   "source": [
    "# Image and scatter in one\n",
    "fig3 = plt.figure(padding_x=0, padding_y=0)\n",
    "\n",
    "# xz dimensions in km\n",
    "xdim = np.array([0, 30.])\n",
    "ydim = np.array([-6.5, 1.])\n",
    "\n",
    "plt.scales(scales = {'x': bq.LinearScale(min=np.min(xdim), max=np.max(xdim)), \n",
    "          'y': bq.LinearScale(min=np.min(ydim), max=np.max(ydim))})\n",
    "\n",
    "image = plt.imshow(x=xdim, y=ydim, image=ipyimage, format='widget')\n",
    "\n",
    "\n",
    "scat = plt.scatter(x=[], y=[], colors=['SeaGreen'], \n",
    "                   enable_move=True, restrict_y=False)\n",
    "\n",
    "def add_points(change=None):\n",
    "    with scat.hold_sync():\n",
    "        scat.interactions = {'click': 'add'}\n",
    "add_points()\n",
    "fig3"
   ]
  },
  {
   "cell_type": "code",
   "execution_count": 10,
   "metadata": {
    "code_folding": []
   },
   "outputs": [
    {
     "data": {
      "application/vnd.jupyter.widget-view+json": {
       "model_id": "c8ca1a7be0154b46a85ebc4621079335",
       "version_major": 2,
       "version_minor": 0
      },
      "text/plain": [
       "VBox(children=(Figure(axes=[Axis(label='x [km]', scale=LinearScale(max=30.0, min=0.0)), Axis(label='z [km]', o…"
      ]
     },
     "metadata": {},
     "output_type": "display_data"
    }
   ],
   "source": [
    "# Image and scatter in one with buttons\n",
    "fig4 = plt.figure(padding_x=0, padding_y=0)\n",
    "\n",
    "# dict for layers and colors - replace with architecture in gempy\n",
    "cord=['DodgerBlue', 'DarkSlateGray', 'Yellow', 'HotPink', 'OrangeRed']\n",
    "layers = ['GrabenFill', 'PostGraben1', 'Postgraben2', 'Jura', 'MainFault']\n",
    "laycol = dict(zip(layers, cord))\n",
    "\n",
    "# buttons\n",
    "add_btn = widgets.Button(description='add', button_style='success')\n",
    "delete_btn = widgets.Button(description='delete', button_style='danger')\n",
    "series_btn = widgets.Button(description='save to file', button_style='warning')\n",
    "layers_btn = widgets.Dropdown(description='unit', options=layers)\n",
    "\n",
    "# xz dimensions in km\n",
    "xdim = np.array([0, 30.])\n",
    "ydim = np.array([-6.5, 1.])\n",
    "\n",
    "plt.scales(scales = {'x': bq.LinearScale(min=np.min(xdim), max=np.max(xdim)), \n",
    "          'y': bq.LinearScale(min=np.min(ydim), max=np.max(ydim))})\n",
    "\n",
    "image = plt.imshow(x=xdim, y=ydim, image=ipyimage, format='widget')\n",
    "\n",
    "\n",
    "scat = plt.scatter(x=[], y=[], colors=['SeaGreen'], \n",
    "                   enable_move=True, restrict_y=False)\n",
    "\n",
    "plt.xlabel('x [km]')\n",
    "plt.ylabel('z [km]')\n",
    "\n",
    "def add_points():\n",
    "    with image.hold_sync():\n",
    "        scat.interactions = {'click': 'add'}\n",
    "\n",
    "def delete_points():\n",
    "    with scat.hold_sync():\n",
    "        scat.interactions = {'click': 'delete'}\n",
    "        \n",
    "def save_fid():\n",
    "    # update the y attribute of line mark\n",
    "    xy = np.stack([scat.x*1000,scat.y*1000],axis=1)\n",
    "    \n",
    "    np.savetxt(layers_btn.value+'.csv', xy, fmt='%.2f', header='x[m],z[m]', delimiter=',')\n",
    "# create a callback which updates the plot when dropdown item is selected, caution, deletes all points\n",
    "# new scat instance has to be called each time this function is called\n",
    "def change_interface(*args):\n",
    "    selected_ticker = layers_btn.value\n",
    "    scat.x = []\n",
    "    scat.x = []\n",
    "    # update the y attribute of the mark by selecting \n",
    "    # the column from the price data frame\n",
    "    scat.colors = [laycol[selected_ticker]]\n",
    "    \n",
    "\n",
    "# register the callback by using the 'observe' method\n",
    "layers_btn.observe(change_interface, 'value')\n",
    "# register the on_click function\n",
    "add_btn.on_click(lambda btn: add_points())\n",
    "delete_btn.on_click(lambda btn: delete_points())\n",
    "series_btn.on_click(lambda btn: save_fid())\n",
    "\n",
    "# stack button and figure using VBox\n",
    "widgets.VBox([fig4, widgets.HBox([add_btn, delete_btn, series_btn, layers_btn])])\n",
    "\n"
   ]
  },
  {
   "cell_type": "markdown",
   "metadata": {},
   "source": [
    "Problem is, this does not work well. New points cannot be added on top of the image.  \n",
    "One has to click on the side of the plot (next to the image) and drag the point to its destination.  \n",
    "Needs to be fixed...maybe by loading the image differently?"
   ]
  }
 ],
 "metadata": {
  "hide_input": false,
  "kernelspec": {
   "display_name": "Python 3",
   "language": "python",
   "name": "python3"
  },
  "language_info": {
   "codemirror_mode": {
    "name": "ipython",
    "version": 3
   },
   "file_extension": ".py",
   "mimetype": "text/x-python",
   "name": "python",
   "nbconvert_exporter": "python",
   "pygments_lexer": "ipython3",
   "version": "3.6.8"
  },
  "toc": {
   "base_numbering": 1,
   "nav_menu": {},
   "number_sections": false,
   "sideBar": true,
   "skip_h1_title": false,
   "title_cell": "Table of Contents",
   "title_sidebar": "Contents",
   "toc_cell": false,
   "toc_position": {},
   "toc_section_display": true,
   "toc_window_display": false
  },
  "varInspector": {
   "cols": {
    "lenName": 16,
    "lenType": 16,
    "lenVar": 40
   },
   "kernels_config": {
    "python": {
     "delete_cmd_postfix": "",
     "delete_cmd_prefix": "del ",
     "library": "var_list.py",
     "varRefreshCmd": "print(var_dic_list())"
    },
    "r": {
     "delete_cmd_postfix": ") ",
     "delete_cmd_prefix": "rm(",
     "library": "var_list.r",
     "varRefreshCmd": "cat(var_dic_list()) "
    }
   },
   "types_to_exclude": [
    "module",
    "function",
    "builtin_function_or_method",
    "instance",
    "_Feature"
   ],
   "window_display": false
  }
 },
 "nbformat": 4,
 "nbformat_minor": 2
}
