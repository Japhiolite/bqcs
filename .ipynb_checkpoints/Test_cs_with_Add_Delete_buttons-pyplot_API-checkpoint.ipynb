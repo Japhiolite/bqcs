{
 "cells": [
  {
   "cell_type": "code",
   "execution_count": 7,
   "metadata": {},
   "outputs": [],
   "source": [
    "import os\n",
    "import pandas as pd\n",
    "import numpy as np\n",
    "import ipywidgets as widgets\n",
    "\n",
    "import bqplot.pyplot as plt\n",
    "from bqplot import *"
   ]
  },
  {
   "cell_type": "markdown",
   "metadata": {},
   "source": [
    "## Image"
   ]
  },
  {
   "cell_type": "code",
   "execution_count": 3,
   "metadata": {},
   "outputs": [
    {
     "data": {
      "application/vnd.jupyter.widget-view+json": {
       "model_id": "fba0f4cfaab543cc8047c94d00dd29eb",
       "version_major": 2,
       "version_minor": 0
      },
      "text/plain": [
       "Image(value=b'\\x89PNG\\r\\n\\x1a\\n\\x00\\x00\\x00\\rIHDR\\x00\\x00\\x06\\x86\\x00\\x00\\x03\\x1b\\x08\\x06\\x00\\x00\\x00`\\xdc\\'\\x…"
      ]
     },
     "metadata": {},
     "output_type": "display_data"
    }
   ],
   "source": [
    "image_path = os.path.abspath('image_nagra_nab14-17.png')\n",
    "\n",
    "with open(image_path, 'rb') as f:\n",
    "    raw_image = f.read()\n",
    "ipyimage = widgets.Image(value=raw_image, format='png')\n",
    "ipyimage"
   ]
  },
  {
   "cell_type": "markdown",
   "metadata": {},
   "source": [
    "## With pyplot-API of bqplot"
   ]
  },
  {
   "cell_type": "code",
   "execution_count": 4,
   "metadata": {},
   "outputs": [
    {
     "data": {
      "application/vnd.jupyter.widget-view+json": {
       "model_id": "500b30d5ffdb47f8a2b5415dd5c89555",
       "version_major": 2,
       "version_minor": 0
      },
      "text/plain": [
       "VBox(children=(Figure(axes=[Axis(scale=LinearScale()), Axis(orientation='vertical', scale=LinearScale())], fig…"
      ]
     },
     "metadata": {},
     "output_type": "display_data"
    }
   ],
   "source": [
    "plt.figure(padding_y=0)\n",
    "axes_options = {'x': {'visible': False}, 'y': {'visible': False}}\n",
    "plt.imshow(image_path, 'filename')\n",
    "plt.show()"
   ]
  },
  {
   "cell_type": "markdown",
   "metadata": {},
   "source": [
    "### Display inside a bqplot Figure"
   ]
  },
  {
   "cell_type": "code",
   "execution_count": 5,
   "metadata": {},
   "outputs": [
    {
     "data": {
      "application/vnd.jupyter.widget-view+json": {
       "model_id": "62b5ed28ba9d458a836b5d3b26f1159a",
       "version_major": 2,
       "version_minor": 0
      },
      "text/plain": [
       "Figure(axes=[Axis(scale=LinearScale()), Axis(orientation='vertical', scale=LinearScale())], fig_margin={'top':…"
      ]
     },
     "metadata": {},
     "output_type": "display_data"
    }
   ],
   "source": [
    "fig = plt.figure(title='Cross-Section', padding_x=0, padding_y=0)\n",
    "image = plt.imshow(ipyimage, 'widget')\n",
    "fig"
   ]
  },
  {
   "cell_type": "markdown",
   "metadata": {},
   "source": [
    "# Scatter Chart - Pyplot API"
   ]
  },
  {
   "cell_type": "code",
   "execution_count": 8,
   "metadata": {},
   "outputs": [],
   "source": [
    "# data generation\n",
    "price_data = pd.DataFrame(np.cumsum(np.random.randn(150, 2).dot([[1.0, -0.8], [-0.8, 1.0]]), axis=0) + 100,\n",
    "                          columns=['Security 1', 'Security 2'], index=pd.date_range(start='01-01-2007', periods=150))\n",
    "size = 100\n",
    "np.random.seed(0)\n",
    "x_data = range(size)\n",
    "y_data = np.cumsum(np.random.randn(size) * 100.0)\n",
    "ord_keys = np.array(['A', 'B', 'C', 'D', 'E', 'F'])\n",
    "ordinal_data = np.random.randint(5, size=size)"
   ]
  },
  {
   "cell_type": "code",
   "execution_count": 12,
   "metadata": {},
   "outputs": [
    {
     "data": {
      "application/vnd.jupyter.widget-view+json": {
       "model_id": "",
       "version_major": 2,
       "version_minor": 0
      },
      "text/plain": [
       "Figure(axes=[Axis(scale=LinearScale()), Axis(orientation='vertical', scale=LinearScale())], fig_margin={'top':…"
      ]
     },
     "metadata": {},
     "output_type": "display_data"
    }
   ],
   "source": [
    "# Scatter plot where you can move points and have an updated mean\n",
    "fig2 = plt.figure()\n",
    "scat = plt.scatter(x_data[:10], y_data[:10], colors=['SeaGreen'], \n",
    "                   enable_move=True, restrict_y=True)\n",
    "lin = plt.plot([], [], line_style='dotted', colors=['DodgerBlue'])\n",
    "\n",
    "def update_mean(change=10):\n",
    "    with lin.hold_sync():\n",
    "        lin.x = [np.min(scat.x), np.max(scat.x)]\n",
    "        lin.y = [np.mean(scat.y), np.mean(scat.y)]\n",
    "        \n",
    "update_mean()\n",
    "\n",
    "# update line on change of x or y of scatter\n",
    "scat.observe(update_mean, names=['x'])\n",
    "scat.observe(update_mean, names=['y'])\n",
    "\n",
    "fig2"
   ]
  },
  {
   "cell_type": "code",
   "execution_count": 16,
   "metadata": {},
   "outputs": [
    {
     "data": {
      "application/vnd.jupyter.widget-view+json": {
       "model_id": "957ecb0c1af14b3595ff220b9df376f4",
       "version_major": 2,
       "version_minor": 0
      },
      "text/plain": [
       "Figure(axes=[Axis(scale=LinearScale()), Axis(orientation='vertical', scale=LinearScale())], fig_margin={'top':…"
      ]
     },
     "metadata": {},
     "output_type": "display_data"
    }
   ],
   "source": [
    "# Scatter plot where you can add and move points \n",
    "fig2 = plt.figure()\n",
    "scat = plt.scatter(x_data[:10], y_data[:10], colors=['SeaGreen'], \n",
    "                   enable_move=True, restrict_y=True)\n",
    "lin = plt.plot([], [], line_style='dotted', colors=['DodgerBlue'])\n",
    "\n",
    "def update_mean(change=None):\n",
    "    with lin.hold_sync():\n",
    "        lin.x = [np.min(scat.x), np.max(scat.x)]\n",
    "        lin.y = [np.mean(scat.y), np.mean(scat.y)]\n",
    "    with scat.hold_sync():\n",
    "        scat.interactions = {'click': 'add'}\n",
    "update_mean()\n",
    "\n",
    "# update line on change of x or y of scatter\n",
    "scat.observe(update_mean, names=['x'])\n",
    "scat.observe(update_mean, names=['y'])\n",
    "\n",
    "fig2"
   ]
  },
  {
   "cell_type": "code",
   "execution_count": 24,
   "metadata": {},
   "outputs": [
    {
     "data": {
      "application/vnd.jupyter.widget-view+json": {
       "model_id": "",
       "version_major": 2,
       "version_minor": 0
      },
      "text/plain": [
       "Figure(axes=[Axis(scale=LinearScale(max=30.0, min=0.0)), Axis(orientation='vertical', scale=LinearScale(max=1.…"
      ]
     },
     "metadata": {},
     "output_type": "display_data"
    }
   ],
   "source": [
    "# Image and scatter in one\n",
    "fig3 = plt.figure(padding_x=0, padding_y=0)\n",
    "\n",
    "# xz dimensions in km\n",
    "xdim = np.array([0, 30.])\n",
    "ydim = np.array([-6.5, 1.])\n",
    "\n",
    "plt.scales(scales = {'x': LinearScale(min=np.min(xdim), max=np.max(xdim)), \n",
    "          'y': LinearScale(min=np.min(ydim), max=np.max(ydim))})\n",
    "\n",
    "image = plt.imshow(x=xdim, y=ydim, image=ipyimage, format='widget')\n",
    "\n",
    "\n",
    "scat = plt.scatter(x=[], y=[], colors=['SeaGreen'], \n",
    "                   enable_move=True, restrict_y=False)\n",
    "\n",
    "def add_points(change=None):\n",
    "    with scat.hold_sync():\n",
    "        scat.interactions = {'click': 'add'}\n",
    "add_points()\n",
    "fig3"
   ]
  },
  {
   "cell_type": "code",
   "execution_count": 31,
   "metadata": {
    "code_folding": []
   },
   "outputs": [
    {
     "data": {
      "application/vnd.jupyter.widget-view+json": {
       "model_id": "7a63c9f4b11f4780a863a19a3b97d83e",
       "version_major": 2,
       "version_minor": 0
      },
      "text/plain": [
       "VBox(children=(Figure(axes=[Axis(scale=LinearScale(max=30.0, min=0.0)), Axis(orientation='vertical', scale=Lin…"
      ]
     },
     "metadata": {},
     "output_type": "display_data"
    },
    {
     "name": "stdout",
     "output_type": "stream",
     "text": [
      "[[ 7.92843089 -1.64892862]\n",
      " [ 8.51666619 -2.9346429 ]\n",
      " [ 9.3401956  -3.87750004]]\n",
      "[[ 9.57548972 -2.35607147]\n",
      " [12.45784266 -2.69892862]\n",
      " [15.57548972 -2.57035719]]\n"
     ]
    }
   ],
   "source": [
    "# Image and scatter in one with buttons\n",
    "fig4 = plt.figure(padding_x=0, padding_y=0)\n",
    "\n",
    "# buttons\n",
    "add_btn = widgets.Button(description='add', button_style='success')\n",
    "delete_btn = widgets.Button(description='delete', button_style='danger')\n",
    "series_btn = widgets.Button(description='new_series', button_style='warning')\n",
    "\n",
    "# xz dimensions in km\n",
    "xdim = np.array([0, 30.])\n",
    "ydim = np.array([-6.5, 1.])\n",
    "\n",
    "plt.scales(scales = {'x': LinearScale(min=np.min(xdim), max=np.max(xdim)), \n",
    "          'y': LinearScale(min=np.min(ydim), max=np.max(ydim))})\n",
    "\n",
    "image = plt.imshow(x=xdim, y=ydim, image=ipyimage, format='widget')\n",
    "\n",
    "\n",
    "scat = plt.scatter(x=[], y=[], colors=['SeaGreen'], \n",
    "                   enable_move=True, restrict_y=False)\n",
    "\n",
    "def add_points():\n",
    "    with scat.hold_sync():\n",
    "        scat.interactions = {'click': 'add'}\n",
    "\n",
    "def delete_points():\n",
    "    with scat.hold_sync():\n",
    "        scat.interactions = {'click': 'delete'}\n",
    "        \n",
    "def on_btn_click():\n",
    "    # update the y attribute of line mark\n",
    "    xy = np.stack([scat.x,scat.y],axis=1)\n",
    "    print(xy)\n",
    "    scat.y = [] \n",
    "    scat.x = []\n",
    "    scat.colors = ['orange']\n",
    "\n",
    "# register the on_click function\n",
    "add_btn.on_click(lambda btn: add_points())\n",
    "delete_btn.on_click(lambda btn: delete_points())\n",
    "series_btn.on_click(lambda btn: on_btn_click())\n",
    "\n",
    "# stack button and figure using VBox\n",
    "widgets.VBox([fig4, widgets.HBox([add_btn, delete_btn, series_btn])])\n",
    "\n"
   ]
  },
  {
   "cell_type": "code",
   "execution_count": 8,
   "metadata": {},
   "outputs": [
    {
     "data": {
      "application/vnd.jupyter.widget-view+json": {
       "model_id": "e3be4dae508841eba90595a5bbadf389",
       "version_major": 2,
       "version_minor": 0
      },
      "text/plain": [
       "VBox(children=(Figure(axes=[Axis(scale=LinearScale(max=30.0, min=0.0)), Axis(orientation='vertical', scale=Lin…"
      ]
     },
     "metadata": {},
     "output_type": "display_data"
    }
   ],
   "source": [
    "cord=['DodgerBlue', 'SeaGreen', 'Yellow', 'HotPink', 'OrangeRed']\n",
    "layers = ['GrabenFill', 'Yellow', 'Purple', 'Blue', 'MainFault']\n",
    "#c_ord = OrdinalColorScale(colors=['DodgerBlue', 'SeaGreen', 'Yellow', 'HotPink', 'OrangeRed'])\n",
    "scat = bq.Scatter(x=[], y=[], scales=scales, colors=cord, enable_move=True)\n",
    "\n",
    "#linJoin = bq.Lines(x=scat.x, y=scat.y, scales=scales, colors=['blue'], close_path=False)\n",
    "\n",
    "\n",
    "interact_control = ToggleButtons(options=['Add', 'Delete'],\n",
    "                                style={'button_width': '120px'})\n",
    "#set_layer = widgets.Dropdown(description='Layer', options=tickers, value=layers[0])\n",
    "\n",
    "def change_interact(shape):\n",
    "    interact_parameters = {\n",
    "        'Add': {'interactions': {'click': 'add'},\n",
    "               'enable_move': True},\n",
    "        'Delete': {'interactions': {'click': 'delete'},\n",
    "                  'enable_move': False},\n",
    "        #'Change Layer': {'interactions': {'click': colors}}\n",
    "    }\n",
    "    for param, value in interact_parameters[interact_control.value].items():\n",
    "        setattr(scat, param, value)\n",
    "        \n",
    "interact_control.observe(change_interact)\n",
    "\n",
    "fig = bq.Figure(title='PC-cs', marks=[image, scat], padding_x=0, padding_y=0)\n",
    "fig.axes = [bq.Axis(scale=scales['x']), bq.Axis(scale=scales['y'], orientation='vertical')]\n",
    "VBox([fig, interact_control])\n",
    "\n"
   ]
  },
  {
   "cell_type": "code",
   "execution_count": 27,
   "metadata": {},
   "outputs": [],
   "source": [
    "scat.colors = ['blue']"
   ]
  },
  {
   "cell_type": "markdown",
   "metadata": {},
   "source": [
    "Works, if you click next to the image..."
   ]
  },
  {
   "cell_type": "code",
   "execution_count": 10,
   "metadata": {},
   "outputs": [
    {
     "name": "stdout",
     "output_type": "stream",
     "text": [
      "[[ 8.34705846 -2.90214299]]\n"
     ]
    }
   ],
   "source": [
    "xy = np.stack([scat.x,scat.y],axis=1)\n",
    "print(xy)"
   ]
  },
  {
   "cell_type": "code",
   "execution_count": 7,
   "metadata": {},
   "outputs": [],
   "source": [
    "np.savetxt('F6_left.dat', xy, fmt='%.5f', header='x z')"
   ]
  },
  {
   "cell_type": "markdown",
   "metadata": {},
   "source": [
    "Problem is, this does not work well. New points cannot be added on top of the image.  \n",
    "One has to click on the side of the plot (next to the image) and drag the point to its destination.  \n",
    "Needs to be fixed...maybe by loading the image differently?"
   ]
  },
  {
   "cell_type": "markdown",
   "metadata": {},
   "source": [
    "## Using the `pyplot` API"
   ]
  },
  {
   "cell_type": "code",
   "execution_count": null,
   "metadata": {},
   "outputs": [],
   "source": [
    "cols=['DodgerBlue', 'SeaGreen', 'Yellow', 'HotPink', 'OrangeRed']\n",
    "layers = ['GrabenFill', 'Yellow', 'Purple', 'Blue', 'MainFault']\n"
   ]
  },
  {
   "cell_type": "code",
   "execution_count": 5,
   "metadata": {},
   "outputs": [
    {
     "data": {
      "application/vnd.jupyter.widget-view+json": {
       "model_id": "",
       "version_major": 2,
       "version_minor": 0
      },
      "text/plain": [
       "VBox(children=(Figure(axes=[Axis(scale=LinearScale(max=30.0, min=0.0)), Axis(orientation='vertical', scale=Lin…"
      ]
     },
     "metadata": {},
     "output_type": "display_data"
    }
   ],
   "source": [
    "# create togglebuttons and dropdown\n",
    "add_del = ToggleButtons(options=['Add', 'Delete'],\n",
    "                                style={'button_width': '120px'})\n",
    "set_layer = widgets.Dropdown(description='Layer', options=tickers, value=layers[0])\n",
    "current_layer = set_layer.value\n",
    "\n",
    "# create a figure widget\n",
    "fig = plt.figure()\n",
    "scatter = plt.scatter(x=[], y=[], scales=scales)\n",
    "\n",
    "scat = bq.Scatter(x=[], y=[], scales=scales, colors=['SeaGreen'], enable_move=True)\n",
    "\n",
    "\n",
    "def change_interact(shape):\n",
    "    interact_parameters = {\n",
    "        'Add': {'interactions': {'click': 'add'},\n",
    "               'enable_move': True},\n",
    "        'Delete': {'interactions': {'click': 'delete'},\n",
    "                  'enable_move': False}\n",
    "    }\n",
    "    for param, value in interact_parameters[interact_control.value].items():\n",
    "        setattr(scatter, param, value)\n",
    "        \n",
    "interact_control.observe(change_interact)\n",
    "\n",
    "fig = bq.Figure(title='PC-cs', marks=[image, scat], padding_x=0, padding_y=0)\n",
    "fig.axes = [bq.Axis(scale=scales['x']), bq.Axis(scale=scales['y'], orientation='vertical')]\n",
    "VBox([fig, interact_control])\n",
    "\n"
   ]
  }
 ],
 "metadata": {
  "hide_input": false,
  "kernelspec": {
   "display_name": "Python 3",
   "language": "python",
   "name": "python3"
  },
  "language_info": {
   "codemirror_mode": {
    "name": "ipython",
    "version": 3
   },
   "file_extension": ".py",
   "mimetype": "text/x-python",
   "name": "python",
   "nbconvert_exporter": "python",
   "pygments_lexer": "ipython3",
   "version": "3.6.1"
  },
  "toc": {
   "base_numbering": 1,
   "nav_menu": {},
   "number_sections": false,
   "sideBar": true,
   "skip_h1_title": false,
   "title_cell": "Table of Contents",
   "title_sidebar": "Contents",
   "toc_cell": false,
   "toc_position": {},
   "toc_section_display": true,
   "toc_window_display": false
  },
  "varInspector": {
   "cols": {
    "lenName": 16,
    "lenType": 16,
    "lenVar": 40
   },
   "kernels_config": {
    "python": {
     "delete_cmd_postfix": "",
     "delete_cmd_prefix": "del ",
     "library": "var_list.py",
     "varRefreshCmd": "print(var_dic_list())"
    },
    "r": {
     "delete_cmd_postfix": ") ",
     "delete_cmd_prefix": "rm(",
     "library": "var_list.r",
     "varRefreshCmd": "cat(var_dic_list()) "
    }
   },
   "types_to_exclude": [
    "module",
    "function",
    "builtin_function_or_method",
    "instance",
    "_Feature"
   ],
   "window_display": false
  }
 },
 "nbformat": 4,
 "nbformat_minor": 2
}
