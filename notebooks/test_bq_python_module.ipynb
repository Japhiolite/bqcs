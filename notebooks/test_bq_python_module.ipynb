{
 "cells": [
  {
   "cell_type": "code",
   "execution_count": 1,
   "metadata": {},
   "outputs": [],
   "source": [
    "import bqpick\n",
    "import numpy as np"
   ]
  },
  {
   "cell_type": "code",
   "execution_count": 2,
   "metadata": {},
   "outputs": [],
   "source": [
    "img = bqpick.import_cs('../Editorial-Transitional-Heatflow/figs/line11-NS-06.png')\n",
    "#img = bqpick.import_cs('image_nagra_nab14-17.png')"
   ]
  },
  {
   "cell_type": "code",
   "execution_count": 3,
   "metadata": {},
   "outputs": [],
   "source": [
    "xdim = np.array([9000.,26000.])\n",
    "zdim = np.array([-6500., 1000.])\n",
    "sc = bqpick.set_cs_dim(xdim, zdim)"
   ]
  },
  {
   "cell_type": "code",
   "execution_count": 4,
   "metadata": {},
   "outputs": [],
   "source": [
    "hmm = bqpick.add_del(sc, img)"
   ]
  },
  {
   "cell_type": "code",
   "execution_count": 5,
   "metadata": {},
   "outputs": [
    {
     "data": {
      "application/vnd.jupyter.widget-view+json": {
<<<<<<< HEAD:notebooks/test_bq_python_module.ipynb
       "model_id": "358101876f4a4883865d0382dfda9786",
=======
       "model_id": "e94efe480f224ee590089e4f5ee72754",
>>>>>>> 6123571d1c99655bbe730554c1ea744b89aee2d7:test_bq_python_module.ipynb
       "version_major": 2,
       "version_minor": 0
      },
      "text/plain": [
       "VBox(children=(Figure(axes=[Axis(scale=LinearScale(max=26000.0, min=9000.0), side='bottom'), Axis(orientation=…"
      ]
     },
     "metadata": {},
     "output_type": "display_data"
    }
   ],
   "source": [
    "hmm"
   ]
  },
  {
   "cell_type": "code",
   "execution_count": 28,
   "metadata": {},
   "outputs": [
    {
     "data": {
      "text/plain": [
<<<<<<< HEAD:notebooks/test_bq_python_module.ipynb
       "array([[ 7631.45236122,  -973.99993896],\n",
       "       [ 8171.66844765, -2353.99993896],\n",
       "       [ 9936.37433001, -3933.99993896]])"
=======
       "array([[ 9904.99979655,   844.28580148],\n",
       "       [14904.99979655,   844.28580148],\n",
       "       [18538.33312988,   480.00008719],\n",
       "       [19938.33312988,   265.71437291],\n",
       "       [21971.66646322,   308.57151576],\n",
       "       [23871.66646322,   180.00008719],\n",
       "       [24671.66646322,   158.57151576],\n",
       "       [25604.99979655,   737.14294434]])"
>>>>>>> 6123571d1c99655bbe730554c1ea744b89aee2d7:test_bq_python_module.ipynb
      ]
     },
     "execution_count": 28,
     "metadata": {},
     "output_type": "execute_result"
    }
   ],
   "source": [
    "xy = np.stack([hmm.children[0].marks[1].x, hmm.children[0].marks[1].y], axis=1)\n",
    "xy"
   ]
  },
  {
   "cell_type": "code",
   "execution_count": 29,
   "metadata": {},
   "outputs": [],
   "source": [
    "np.savetxt('data_export/line6_quaternary.dat', xy, fmt='%.5f', header='x z')"
   ]
  }
 ],
 "metadata": {
  "hide_input": false,
  "kernelspec": {
   "display_name": "Python 3",
   "language": "python",
   "name": "python3"
  },
  "language_info": {
   "codemirror_mode": {
    "name": "ipython",
    "version": 3
   },
   "file_extension": ".py",
   "mimetype": "text/x-python",
   "name": "python",
   "nbconvert_exporter": "python",
   "pygments_lexer": "ipython3",
<<<<<<< HEAD:notebooks/test_bq_python_module.ipynb
   "version": "3.6.10"
  },
  "latex_envs": {
   "LaTeX_envs_menu_present": true,
   "autoclose": false,
   "autocomplete": true,
   "bibliofile": "biblio.bib",
   "cite_by": "apalike",
   "current_citInitial": 1,
   "eqLabelWithNumbers": true,
   "eqNumInitial": 1,
   "hotkeys": {
    "equation": "Ctrl-E",
    "itemize": "Ctrl-I"
   },
   "labels_anchors": false,
   "latex_user_defs": false,
   "report_style_numbering": false,
   "user_envs_cfg": false
  },
  "toc": {
   "base_numbering": 1,
   "nav_menu": {},
   "number_sections": false,
   "sideBar": true,
   "skip_h1_title": false,
   "title_cell": "Table of Contents",
   "title_sidebar": "Contents",
   "toc_cell": false,
   "toc_position": {},
   "toc_section_display": true,
   "toc_window_display": false
=======
   "version": "3.6.8"
>>>>>>> 6123571d1c99655bbe730554c1ea744b89aee2d7:test_bq_python_module.ipynb
  },
  "varInspector": {
   "cols": {
    "lenName": 16,
    "lenType": 16,
    "lenVar": 40
   },
   "kernels_config": {
    "python": {
     "delete_cmd_postfix": "",
     "delete_cmd_prefix": "del ",
     "library": "var_list.py",
     "varRefreshCmd": "print(var_dic_list())"
    },
    "r": {
     "delete_cmd_postfix": ") ",
     "delete_cmd_prefix": "rm(",
     "library": "var_list.r",
     "varRefreshCmd": "cat(var_dic_list()) "
    }
   },
   "types_to_exclude": [
    "module",
    "function",
    "builtin_function_or_method",
    "instance",
    "_Feature"
   ],
   "window_display": false
  }
 },
 "nbformat": 4,
 "nbformat_minor": 2
}
